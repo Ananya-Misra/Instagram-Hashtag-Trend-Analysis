{
 "cells": [
  {
   "cell_type": "code",
   "execution_count": 1,
   "outputs": [],
   "source": [
    "import sqlite3\n",
    "import pandas as pd\n",
    "import numpy as np\n",
    "def sqlToDf(tableName):\n",
    "    conn = sqlite3.connect('hashtags.sqlite3')\n",
    "    sql_query = pd.read_sql_query (f'''\n",
    "                                   SELECT * FROM {tableName}\n",
    "                                   ''', conn)\n",
    "    df = pd.DataFrame(sql_query, columns = ['tag', 'link','page','date','img', 'posts'])\n",
    "    df['date']= pd.to_datetime(df['date'])\n",
    "    df['posts'] = df['posts'].replace(',','',regex=True)\n",
    "    df = df.replace('None', np.nan).dropna()\n",
    "    df['posts'] = df['posts'].astype(float)\n",
    "    df=df.dropna()\n",
    "    return df\n"
   ],
   "metadata": {
    "collapsed": false
   }
  },
  {
   "cell_type": "code",
   "execution_count": 2,
   "outputs": [],
   "source": [
    "df=sqlToDf(\"hashtag__12_03_23\")"
   ],
   "metadata": {
    "collapsed": false
   }
  },
  {
   "cell_type": "code",
   "execution_count": 2,
   "outputs": [],
   "source": [],
   "metadata": {
    "collapsed": false
   }
  },
  {
   "cell_type": "code",
   "execution_count": 3,
   "outputs": [
    {
     "data": {
      "text/plain": "                         tag                                   link  \\\n0                #Viewall50k              /explore/tags/viewall50k/   \n2            #abhimanyubirla          /explore/tags/abhimanyubirla/   \n3                    #abhira                  /explore/tags/abhira/   \n4                    #abhira                  /explore/tags/abhira/   \n5            #abhirakishaadi          /explore/tags/abhirakishaadi/   \n..                       ...                                    ...   \n185         #yehhaichahatein         /explore/tags/yehhaichahatein/   \n186       #yehhaimohabbatein       /explore/tags/yehhaimohabbatein/   \n187  #yehrishtakyakehlatahai  /explore/tags/yehrishtakyakehlatahai/   \n188  #yehrishtakyakehlatahai  /explore/tags/yehrishtakyakehlatahai/   \n189                   #yrkkh                   /explore/tags/yrkkh/   \n\n                         page                      date  \\\n0    /sonu_editor_number_1__/ 2023-03-06 03:31:30+00:00   \n2            /lost_in_abhira/ 2023-03-09 03:17:20+00:00   \n3              /sheencreates/ 2023-03-09 01:31:58+00:00   \n4            /lost_in_abhira/ 2023-03-09 03:17:20+00:00   \n5            /lost_in_abhira/ 2023-03-09 03:17:20+00:00   \n..                        ...                       ...   \n185            /sheencreates/ 2023-03-09 01:31:58+00:00   \n186          /lost_in_abhira/ 2023-03-09 03:17:20+00:00   \n187          /lost_in_abhira/ 2023-03-09 03:17:20+00:00   \n188            /sheencreates/ 2023-03-09 01:31:58+00:00   \n189          /lost_in_abhira/ 2023-03-09 03:17:20+00:00   \n\n                                                   img      posts  \n0    https://instagram.flko6-1.fna.fbcdn.net/v/t51....       72.0  \n2    https://instagram.flko6-1.fna.fbcdn.net/v/t51....   325116.0  \n3    https://instagram.flko6-1.fna.fbcdn.net/v/t51....   680527.0  \n4    https://instagram.flko6-1.fna.fbcdn.net/v/t51....   680527.0  \n5    https://instagram.flko6-1.fna.fbcdn.net/v/t51....   113141.0  \n..                                                 ...        ...  \n185  https://instagram.flko6-1.fna.fbcdn.net/v/t51....   419322.0  \n186  https://instagram.flko6-1.fna.fbcdn.net/v/t51....   334676.0  \n187  https://instagram.flko6-1.fna.fbcdn.net/v/t51....  1560061.0  \n188  https://instagram.flko6-1.fna.fbcdn.net/v/t51....  1560061.0  \n189  https://instagram.flko6-1.fna.fbcdn.net/v/t51....  2041869.0  \n\n[181 rows x 6 columns]",
      "text/html": "<div>\n<style scoped>\n    .dataframe tbody tr th:only-of-type {\n        vertical-align: middle;\n    }\n\n    .dataframe tbody tr th {\n        vertical-align: top;\n    }\n\n    .dataframe thead th {\n        text-align: right;\n    }\n</style>\n<table border=\"1\" class=\"dataframe\">\n  <thead>\n    <tr style=\"text-align: right;\">\n      <th></th>\n      <th>tag</th>\n      <th>link</th>\n      <th>page</th>\n      <th>date</th>\n      <th>img</th>\n      <th>posts</th>\n    </tr>\n  </thead>\n  <tbody>\n    <tr>\n      <th>0</th>\n      <td>#Viewall50k</td>\n      <td>/explore/tags/viewall50k/</td>\n      <td>/sonu_editor_number_1__/</td>\n      <td>2023-03-06 03:31:30+00:00</td>\n      <td>https://instagram.flko6-1.fna.fbcdn.net/v/t51....</td>\n      <td>72.0</td>\n    </tr>\n    <tr>\n      <th>2</th>\n      <td>#abhimanyubirla</td>\n      <td>/explore/tags/abhimanyubirla/</td>\n      <td>/lost_in_abhira/</td>\n      <td>2023-03-09 03:17:20+00:00</td>\n      <td>https://instagram.flko6-1.fna.fbcdn.net/v/t51....</td>\n      <td>325116.0</td>\n    </tr>\n    <tr>\n      <th>3</th>\n      <td>#abhira</td>\n      <td>/explore/tags/abhira/</td>\n      <td>/sheencreates/</td>\n      <td>2023-03-09 01:31:58+00:00</td>\n      <td>https://instagram.flko6-1.fna.fbcdn.net/v/t51....</td>\n      <td>680527.0</td>\n    </tr>\n    <tr>\n      <th>4</th>\n      <td>#abhira</td>\n      <td>/explore/tags/abhira/</td>\n      <td>/lost_in_abhira/</td>\n      <td>2023-03-09 03:17:20+00:00</td>\n      <td>https://instagram.flko6-1.fna.fbcdn.net/v/t51....</td>\n      <td>680527.0</td>\n    </tr>\n    <tr>\n      <th>5</th>\n      <td>#abhirakishaadi</td>\n      <td>/explore/tags/abhirakishaadi/</td>\n      <td>/lost_in_abhira/</td>\n      <td>2023-03-09 03:17:20+00:00</td>\n      <td>https://instagram.flko6-1.fna.fbcdn.net/v/t51....</td>\n      <td>113141.0</td>\n    </tr>\n    <tr>\n      <th>...</th>\n      <td>...</td>\n      <td>...</td>\n      <td>...</td>\n      <td>...</td>\n      <td>...</td>\n      <td>...</td>\n    </tr>\n    <tr>\n      <th>185</th>\n      <td>#yehhaichahatein</td>\n      <td>/explore/tags/yehhaichahatein/</td>\n      <td>/sheencreates/</td>\n      <td>2023-03-09 01:31:58+00:00</td>\n      <td>https://instagram.flko6-1.fna.fbcdn.net/v/t51....</td>\n      <td>419322.0</td>\n    </tr>\n    <tr>\n      <th>186</th>\n      <td>#yehhaimohabbatein</td>\n      <td>/explore/tags/yehhaimohabbatein/</td>\n      <td>/lost_in_abhira/</td>\n      <td>2023-03-09 03:17:20+00:00</td>\n      <td>https://instagram.flko6-1.fna.fbcdn.net/v/t51....</td>\n      <td>334676.0</td>\n    </tr>\n    <tr>\n      <th>187</th>\n      <td>#yehrishtakyakehlatahai</td>\n      <td>/explore/tags/yehrishtakyakehlatahai/</td>\n      <td>/lost_in_abhira/</td>\n      <td>2023-03-09 03:17:20+00:00</td>\n      <td>https://instagram.flko6-1.fna.fbcdn.net/v/t51....</td>\n      <td>1560061.0</td>\n    </tr>\n    <tr>\n      <th>188</th>\n      <td>#yehrishtakyakehlatahai</td>\n      <td>/explore/tags/yehrishtakyakehlatahai/</td>\n      <td>/sheencreates/</td>\n      <td>2023-03-09 01:31:58+00:00</td>\n      <td>https://instagram.flko6-1.fna.fbcdn.net/v/t51....</td>\n      <td>1560061.0</td>\n    </tr>\n    <tr>\n      <th>189</th>\n      <td>#yrkkh</td>\n      <td>/explore/tags/yrkkh/</td>\n      <td>/lost_in_abhira/</td>\n      <td>2023-03-09 03:17:20+00:00</td>\n      <td>https://instagram.flko6-1.fna.fbcdn.net/v/t51....</td>\n      <td>2041869.0</td>\n    </tr>\n  </tbody>\n</table>\n<p>181 rows × 6 columns</p>\n</div>"
     },
     "execution_count": 3,
     "metadata": {},
     "output_type": "execute_result"
    }
   ],
   "source": [
    "df"
   ],
   "metadata": {
    "collapsed": false
   }
  },
  {
   "cell_type": "markdown",
   "source": [],
   "metadata": {
    "collapsed": false
   }
  },
  {
   "cell_type": "code",
   "execution_count": 4,
   "outputs": [],
   "source": [
    "import sqlite3\n",
    "con = sqlite3.connect(r'../hashtags.sqlite3')\n",
    "def sql_fetch(con):\n",
    "    cursorObj = con.cursor()\n",
    "    cursorObj.execute('SELECT name from sqlite_master where type= \"table\"')\n",
    "    return  [name[0] for name in cursorObj.fetchall() if '__' in name[0]]"
   ],
   "metadata": {
    "collapsed": false
   }
  },
  {
   "cell_type": "code",
   "execution_count": 7,
   "outputs": [
    {
     "name": "stdout",
     "output_type": "stream",
     "text": [
      "['hashtag__16_01_23', 'hashtag__05_02_23', 'hashtag__26_02_23', 'hashtag__04_03_23', 'hashtag__05_03_23', 'hashtag__12_03_23']\n"
     ]
    }
   ],
   "source": [
    "print(sql_fetch(con));"
   ],
   "metadata": {
    "collapsed": false
   }
  },
  {
   "cell_type": "code",
   "execution_count": null,
   "outputs": [],
   "source": [
    "import plotly.express as px\n",
    "import plotly.graph_objects as go\n",
    "import pandas as pd\n",
    "import numpy as np"
   ],
   "metadata": {
    "collapsed": false
   }
  },
  {
   "cell_type": "code",
   "execution_count": null,
   "outputs": [],
   "source": [
    "def sqlToDf(tableName):\n",
    "    conn = sqlite3.connect('hashtags.sqlite3')\n",
    "    sql_query = pd.read_sql_query (f'''\n",
    "                                   SELECT * FROM {tableName}\n",
    "                                   ''', conn)\n",
    "    df = pd.DataFrame(sql_query, columns = ['tag', 'link','page','date','img', 'posts'])\n",
    "    df['date']= pd.to_datetime(df['date'])\n",
    "    df['posts'] = df['posts'].replace(',','',regex=True)\n",
    "    df = df.replace('None', np.nan).dropna()\n",
    "    df['posts'] = df['posts'].astype(float)\n",
    "    df=df.dropna()\n",
    "    return df"
   ],
   "metadata": {
    "collapsed": false
   }
  },
  {
   "cell_type": "code",
   "execution_count": null,
   "outputs": [],
   "source": [
    "sql_fetch(con)"
   ],
   "metadata": {
    "collapsed": false
   }
  },
  {
   "cell_type": "code",
   "execution_count": null,
   "outputs": [],
   "source": [
    "all_insta_tables = []\n",
    "for name in sql_fetch(con):\n",
    "    all_insta_tables.append(sqlToDf(name))\n",
    "idf = pd.concat(all_insta_tables)"
   ],
   "metadata": {
    "collapsed": false
   }
  },
  {
   "cell_type": "code",
   "execution_count": null,
   "outputs": [],
   "source": [
    "idf"
   ],
   "metadata": {
    "collapsed": false
   }
  },
  {
   "cell_type": "code",
   "execution_count": null,
   "outputs": [],
   "source": [
    "# idf.sort_values(by='posts', inplace=True)\n",
    "fig = px.bar(idf[:50], x='tag', y='posts', log_y=True,)"
   ],
   "metadata": {
    "collapsed": false
   }
  },
  {
   "cell_type": "code",
   "execution_count": null,
   "outputs": [],
   "source": [],
   "metadata": {
    "collapsed": false
   }
  },
  {
   "cell_type": "code",
   "execution_count": null,
   "outputs": [],
   "source": [
    "idf.tag\n"
   ],
   "metadata": {
    "collapsed": false
   }
  },
  {
   "cell_type": "code",
   "execution_count": null,
   "outputs": [],
   "source": [
    "idf.posts"
   ],
   "metadata": {
    "collapsed": false
   }
  },
  {
   "cell_type": "code",
   "execution_count": null,
   "outputs": [],
   "source": [
    "idf"
   ],
   "metadata": {
    "collapsed": false
   }
  },
  {
   "cell_type": "code",
   "execution_count": null,
   "outputs": [],
   "source": [
    "date_df = idf.groupby('date')['posts'].sum()\n",
    "px.ecdf(date_df, date_df.index, 'posts')"
   ],
   "metadata": {
    "collapsed": false
   }
  },
  {
   "cell_type": "code",
   "execution_count": null,
   "outputs": [],
   "source": [
    "date_df.values"
   ],
   "metadata": {
    "collapsed": false
   }
  },
  {
   "cell_type": "code",
   "execution_count": null,
   "outputs": [],
   "source": [
    "px.funnel_area(date_df, date_df.index, 'posts')"
   ],
   "metadata": {
    "collapsed": false
   }
  },
  {
   "cell_type": "code",
   "execution_count": null,
   "outputs": [],
   "source": [
    "# px.Figure([go.Scatter(x=df['Date'], y=df['AAPL.High'])])\n",
    "date_df.info()"
   ],
   "metadata": {
    "collapsed": false
   }
  },
  {
   "cell_type": "code",
   "execution_count": null,
   "outputs": [],
   "source": [
    "date_df"
   ],
   "metadata": {
    "collapsed": false
   }
  },
  {
   "cell_type": "code",
   "execution_count": null,
   "outputs": [],
   "source": [
    "px.area(date_df)"
   ],
   "metadata": {
    "collapsed": false
   }
  },
  {
   "cell_type": "code",
   "execution_count": null,
   "outputs": [],
   "source": [
    "px.histogram(date_df, x=date_df.index, y=\"posts\", histfunc=\"avg\", title=\"Histogram on Date Axes\")"
   ],
   "metadata": {
    "collapsed": false
   }
  },
  {
   "cell_type": "code",
   "execution_count": null,
   "outputs": [],
   "source": [
    "import plotly.graph_objects as go\n",
    "#\n",
    "# fig = go.Figure()\n",
    "# fig.add_trace(go.Bar(\n",
    "#     x=[\"2020-01-01\", \"2020-04-01\", \"2020-07-01\"],\n",
    "#     y=[1000, 1500, 1700],\n",
    "#     xperiod=\"M3\",\n",
    "#     xperiodalignment=\"middle\",\n",
    "#     xhoverformat=\"Q%q\",\n",
    "#     hovertemplate=\"%{y}%{_xother}\"\n",
    "# ))"
   ],
   "metadata": {
    "collapsed": false
   }
  },
  {
   "cell_type": "code",
   "execution_count": null,
   "outputs": [],
   "source": [
    "fig.add_trace(go.Scatter(\n",
    "    x=date_df.index,\n",
    "    y=\"posts\",\n",
    "    xperiod=\"M1\",\n",
    "    xperiodalignment=\"middle\",\n",
    "    hovertemplate=\"%{y}%{_xother}\"\n",
    "))"
   ],
   "metadata": {
    "collapsed": false
   }
  },
  {
   "cell_type": "code",
   "execution_count": null,
   "outputs": [],
   "source": [
    "date_df.info()"
   ],
   "metadata": {
    "collapsed": false
   }
  },
  {
   "cell_type": "code",
   "execution_count": null,
   "outputs": [],
   "source": [
    "pd.Series(date_df.posts)"
   ],
   "metadata": {
    "collapsed": false
   }
  },
  {
   "cell_type": "code",
   "execution_count": null,
   "outputs": [],
   "source": [
    "date_df.icol(2)"
   ],
   "metadata": {
    "collapsed": false
   }
  },
  {
   "cell_type": "code",
   "execution_count": null,
   "outputs": [],
   "source": [
    "px.area(date_df, date_df.index, 'posts')"
   ],
   "metadata": {
    "collapsed": false
   }
  },
  {
   "cell_type": "code",
   "execution_count": null,
   "outputs": [],
   "source": [
    "px.scatter(date_df, date_df.index, 'posts')"
   ],
   "metadata": {
    "collapsed": false
   }
  },
  {
   "cell_type": "code",
   "execution_count": null,
   "outputs": [],
   "source": [
    "px.line_geo(date_df, date_df.index, 'posts')"
   ],
   "metadata": {
    "collapsed": false
   }
  },
  {
   "cell_type": "code",
   "execution_count": null,
   "outputs": [],
   "source": [],
   "metadata": {
    "collapsed": false
   }
  },
  {
   "cell_type": "code",
   "execution_count": null,
   "outputs": [],
   "source": [
    "date_w_post = idf.groupby('date')['posts'].sum().reset_index()"
   ],
   "metadata": {
    "collapsed": false
   }
  },
  {
   "cell_type": "code",
   "execution_count": null,
   "outputs": [],
   "source": [
    "date_w_post"
   ],
   "metadata": {
    "collapsed": false
   }
  },
  {
   "cell_type": "code",
   "execution_count": null,
   "outputs": [],
   "source": [
    "from sklearn.ensemble import GradientBoostingRegressor\n",
    "from sklearn.linear_model import LinearRegression\n",
    "from sklearn.model_selection import train_test_split, cross_validate\n",
    "from datetime import date"
   ],
   "metadata": {
    "collapsed": false
   }
  },
  {
   "cell_type": "code",
   "execution_count": null,
   "outputs": [],
   "source": [
    "X = date_w_post[['date']].copy()\n",
    "y = date_w_post['posts']\n",
    "X['ord'] = X.date.apply(lambda d: date.toordinal(d))\n",
    "# X['year'] = X['date'].apply(lambda x: x.year)\n",
    "# X['month'] = X['date'].apply(lambda x: x.month)\n",
    "# X['day'] = X['date'].apply(lambda x: x.day)\n",
    "# X['hour'] = X['date'].apply(lambda x: x.hour)\n",
    "# X['minute'] = X['date'].apply(lambda x: x.minute)\n",
    "X.drop(columns=['date'], inplace=True)"
   ],
   "metadata": {
    "collapsed": false
   }
  },
  {
   "cell_type": "code",
   "execution_count": null,
   "outputs": [],
   "source": [],
   "metadata": {
    "collapsed": false
   }
  },
  {
   "cell_type": "code",
   "execution_count": null,
   "outputs": [],
   "source": [
    "Xtrain, Xtest, ytrain, ytest = train_test_split(X,y, test_size=.2)\n",
    "reg = GradientBoostingRegressor()\n",
    "reg2 = LinearRegression()\n",
    "cv1 = cross_validate(reg, X, y, cv=3, n_jobs=-1)\n",
    "cv2= cross_validate(reg2, X, y, cv=3, n_jobs=-1)\n",
    "print(cv1['test_score'])\n",
    "print(cv2['test_score'])"
   ],
   "metadata": {
    "collapsed": false
   }
  },
  {
   "cell_type": "code",
   "execution_count": null,
   "outputs": [],
   "source": [
    "px.bar(y=[cv1['test_score'], cv2['test_score']])"
   ],
   "metadata": {
    "collapsed": false
   }
  },
  {
   "cell_type": "code",
   "execution_count": null,
   "outputs": [],
   "source": [
    "px.scatter(x=X['ord'],y=y)"
   ],
   "metadata": {
    "collapsed": false
   }
  },
  {
   "cell_type": "code",
   "execution_count": null,
   "outputs": [],
   "source": [
    "px.bar( x='tag', y='date' )"
   ],
   "metadata": {
    "collapsed": false
   }
  },
  {
   "cell_type": "code",
   "execution_count": null,
   "outputs": [],
   "source": [
    "idf"
   ],
   "metadata": {
    "collapsed": false
   }
  },
  {
   "cell_type": "code",
   "execution_count": null,
   "outputs": [],
   "source": [
    "tagdf = idf.groupby('tag')['posts'].sum().reset_index()\n",
    "tagdf.sort_values(by='posts',ascending=False,inplace=True)\n",
    "fig = px.pie(tagdf[:10], 'tag', 'posts' )\n",
    "fig\n"
   ],
   "metadata": {
    "collapsed": false
   }
  },
  {
   "cell_type": "code",
   "execution_count": null,
   "outputs": [],
   "source": [
    "fig = px.bar(tagdf[:50], x='tag', y='posts', log_y=True, )\n",
    "fig.up\n"
   ],
   "metadata": {
    "collapsed": false
   }
  },
  {
   "cell_type": "code",
   "execution_count": null,
   "outputs": [],
   "source": [
    "weekdf = idf.groupby(idf.date.dt.weekday)['tag'].count().reset_index()\n",
    "px.line(weekdf, 'date', 'tag', title='Posts vs Day of the week')"
   ],
   "metadata": {
    "collapsed": false
   }
  },
  {
   "cell_type": "code",
   "execution_count": null,
   "outputs": [],
   "source": [],
   "metadata": {
    "collapsed": false
   }
  },
  {
   "cell_type": "code",
   "execution_count": null,
   "outputs": [],
   "source": [
    "rng = pd.date_range('1/6/2014',periods=169,freq='H')\n",
    "graph = pd.Series(np.random.randn(168), index=rng[:168])\n",
    "ax = graph.plot()\n",
    "\n",
    "weekday_map= {0:'MON', 1:'TUE', 2:'WED', 3:'THU',\n",
    "              4:'FRI', 5:'SAT', 6:'SUN'}\n",
    "\n",
    "xs = sorted(ax.get_xticks(minor='both'))\n",
    "wd = graph.index[xs - xs[0]].map(pd.Timestamp.weekday)"
   ],
   "metadata": {
    "collapsed": false
   }
  },
  {
   "cell_type": "code",
   "execution_count": null,
   "outputs": [],
   "source": [
    "ax.set_xticks(xs)\n",
    "ax.set_xticks([], minor=True)\n",
    "ax.set_xticklabels([weekday_map[d] for d in wd])"
   ],
   "metadata": {
    "collapsed": false
   }
  },
  {
   "cell_type": "code",
   "execution_count": null,
   "outputs": [],
   "source": [
    "ax"
   ],
   "metadata": {
    "collapsed": false
   }
  },
  {
   "cell_type": "code",
   "execution_count": null,
   "outputs": [],
   "source": [
    "rng = pd.date_range('1/6/2014',periods=169,freq='H')\n",
    "graph = pd.Series(np.random.randn(168), index=rng[:168])\n",
    "ax = graph.plot()\n",
    "\n",
    "\n"
   ],
   "metadata": {
    "collapsed": false
   }
  },
  {
   "cell_type": "code",
   "execution_count": null,
   "outputs": [],
   "source": [
    "weekday_map= {0:'MON', 1:'TUE', 2:'WED', 3:'THU',\n",
    "              4:'FRI', 5:'SAT', 6:'SUN'}\n",
    "\n",
    "xs = sorted(ax.get_xticks(minor='both'))\n",
    "wd = graph.index[xs - xs[0]].map(pd.Timestamp.weekday)\n",
    "\n",
    "ax.set_xticks(xs)\n",
    "ax.set_xticks([], minor=True)\n",
    "ax.set_xticklabels([weekday_map[d] for d in wd])"
   ],
   "metadata": {
    "collapsed": false
   }
  },
  {
   "cell_type": "code",
   "execution_count": null,
   "outputs": [],
   "source": [],
   "metadata": {
    "collapsed": false
   }
  }
 ],
 "metadata": {
  "kernelspec": {
   "display_name": "Python 3",
   "language": "python",
   "name": "python3"
  },
  "language_info": {
   "codemirror_mode": {
    "name": "ipython",
    "version": 2
   },
   "file_extension": ".py",
   "mimetype": "text/x-python",
   "name": "python",
   "nbconvert_exporter": "python",
   "pygments_lexer": "ipython2",
   "version": "2.7.6"
  }
 },
 "nbformat": 4,
 "nbformat_minor": 0
}
