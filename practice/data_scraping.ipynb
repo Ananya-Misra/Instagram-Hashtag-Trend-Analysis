{
 "cells": [
  {
   "cell_type": "code",
   "execution_count": null,
   "metadata": {
    "collapsed": true
   },
   "outputs": [],
   "source": [
    "import pandas as pd\n",
    "from selenium import webdriver\n",
    "from webdriver_manager.chrome import ChromeDriverManager\n",
    "from selenium.webdriver.common.keys import Keys\n",
    "from selenium.webdriver.common.by import By\n",
    "from bs4 import BeautifulSoup\n",
    "import time"
   ]
  },
  {
   "cell_type": "code",
   "execution_count": null,
   "outputs": [],
   "source": [
    "# login\n",
    "def login(driver, instahandle, instapassword):\n",
    "    username = driver.find_element(By.CSS_SELECTOR, \"input[name='username']\")\n",
    "    password = driver.find_element(By.CSS_SELECTOR, \"input[name='password']\")\n",
    "    username.clear()\n",
    "    password.clear()\n",
    "    username.send_keys(instahandle)\n",
    "    password.send_keys(instapassword)\n",
    "    driver.find_element(By.CSS_SELECTOR, \"button[type='submit']\").click()\n",
    "    time.sleep(5)\n",
    "    return True\n"
   ],
   "metadata": {
    "collapsed": false
   }
  },
  {
   "cell_type": "code",
   "execution_count": null,
   "outputs": [],
   "source": [
    "def skip_login_info(driver):\n",
    "    #save your login info?\n",
    "    time.sleep(10)\n",
    "    notnow = driver.find_element(\"xpath\", \"//button[contains(text(), 'Not Now')]\").click()\n",
    "def turn_off_notif(driver):\n",
    "    #turn on notif\n",
    "    time.sleep(10)\n",
    "    notnow2 = driver.find_element(\"xpath\", \"//button[contains(text(), 'Not Now')]\").click()"
   ],
   "metadata": {
    "collapsed": false
   }
  },
  {
   "cell_type": "code",
   "execution_count": null,
   "outputs": [],
   "source": [
    "#searchbox\n",
    "def search(driver, instapage):\n",
    "    time.sleep(5)\n",
    "    searchbox = driver.find_element(By.CSS_SELECTOR, \"input[placeholder='Search']\")\n",
    "    searchbox.clear()\n",
    "    searchbox.send_keys(instapage)\n",
    "    time.sleep(5)\n",
    "    #selects the item\n",
    "    searchbox.send_keys(Keys.ENTER);\n",
    "    time.sleep(5)\n",
    "    #clicks enter\n",
    "    searchbox.send_keys(Keys.ENTER)"
   ],
   "metadata": {
    "collapsed": false
   }
  },
  {
   "cell_type": "code",
   "execution_count": null,
   "outputs": [],
   "source": [
    "def scroller(driver):\n",
    "    #scroll\n",
    "    scrolldown = driver.execute_script(\n",
    "    \"window.scrollTo(0, document.body.scrollHeight);var scrolldown=document.body.scrollHeight;return scrolldown;\")\n",
    "    match = False\n",
    "    while not match:\n",
    "        last_count = scrolldown\n",
    "        time.sleep(3)\n",
    "        scrolldown = driver.execute_script(\n",
    "        \"window.scrollTo(0, document.body.scrollHeight);var scrolldown=document.body.scrollHeight;return scrolldown;\")\n",
    "        if last_count == scrolldown:\n",
    "            match = True\n"
   ],
   "metadata": {
    "collapsed": false
   }
  },
  {
   "cell_type": "code",
   "execution_count": null,
   "outputs": [],
   "source": [
    "def insta_posts(driver):\n",
    "    posts = []\n",
    "    links = driver.find_elements(By.TAG_NAME, 'a')\n",
    "    for link in links:\n",
    "        post = link.get_attribute('href')\n",
    "        if '/p/' in post:\n",
    "            posts.append(post)\n",
    "    return posts"
   ],
   "metadata": {
    "collapsed": false
   }
  },
  {
   "cell_type": "code",
   "execution_count": null,
   "outputs": [],
   "source": [
    "def getdata(driver,posts):\n",
    "    raw_data = []\n",
    "    for post in posts:\n",
    "        driver.get(post)\n",
    "        time.sleep(7)\n",
    "        shortcode = driver.current_url.split(\"/\")[-2]\n",
    "        print(\"shortcode\", shortcode)\n",
    "        selector = \"div._aa06\"\n",
    "        # print(\"selector\", selector)\n",
    "        if driver.find_element(By.CSS_SELECTOR, selector) is not None:\n",
    "            content = driver.find_elements(By.CSS_SELECTOR, selector)\n",
    "            for con in content:\n",
    "                html = con.get_attribute('innerHTML')\n",
    "                with open('dummy_sec.html', 'w',encoding=\"utf-8\") as f:\n",
    "                    f.write(html)\n",
    "                soup = BeautifulSoup(html,  'html.parser')\n",
    "                print(soup)\n",
    "                for link in soup.find_all('a'):\n",
    "                    # print(link)\n",
    "                    raw_data.append({\n",
    "                        'tag':link.text,\n",
    "                        'link':link.attrs.get('href'),\n",
    "                        # 'user':instaname,\n",
    "                        # 'date':link.\n",
    "                    })\n",
    "        else:\n",
    "            print(\"not found\")\n",
    "            time.sleep(5)\n",
    "        return raw_data\n"
   ],
   "metadata": {
    "collapsed": false
   }
  },
  {
   "cell_type": "code",
   "execution_count": null,
   "outputs": [],
   "source": [
    "def covert_data_to_df(raw_data):\n",
    "    df = pd.DataFrame(raw_data)\n",
    "    df[df['tag'].str.startswith('#')]\n",
    "    return df"
   ],
   "metadata": {
    "collapsed": false
   }
  },
  {
   "cell_type": "code",
   "execution_count": null,
   "outputs": [],
   "source": [
    "def convert_df_to_csv(df):\n",
    "    df.to_csv('hastags_rawdata1.csv', index=None)\n",
    "    print('Process Completed')"
   ],
   "metadata": {
    "collapsed": false
   }
  },
  {
   "cell_type": "markdown",
   "source": [
    "**Calling functions**"
   ],
   "metadata": {
    "collapsed": false
   }
  },
  {
   "cell_type": "code",
   "execution_count": null,
   "outputs": [],
   "source": [
    "#installing driver\n",
    "mdriver = webdriver.Chrome(ChromeDriverManager().install())\n",
    "mdriver.get(\"https://www.instagram.com/\")\n",
    "time.sleep(2)\n",
    "insta_handle='sandrathom11'\n",
    "insta_password='Pipelining48'\n",
    "insta_page='random_shotsbyme'\n",
    "#if login successful\n",
    "if login(mdriver,insta_handle,insta_password):\n",
    "    print(\"Login successful\")\n",
    "    skip_login_info(mdriver)\n",
    "    turn_off_notif(mdriver)\n",
    "    search(mdriver, insta_page)\n",
    "    scroller(mdriver)\n",
    "    fetched_posts=insta_posts(mdriver)\n",
    "    fetched_data=getdata(mdriver,fetched_posts)\n",
    "    dataframe=covert_data_to_df(fetched_data)\n",
    "    convert_df_to_csv(dataframe)\n",
    "else:\n",
    "    print(\"Wrong credentials\")\n",
    "\n"
   ],
   "metadata": {
    "collapsed": false
   }
  },
  {
   "cell_type": "code",
   "execution_count": null,
   "outputs": [],
   "source": [
    "# _a9ze _a9zf"
   ],
   "metadata": {
    "collapsed": false
   }
  }
 ],
 "metadata": {
  "kernelspec": {
   "display_name": "Python 3",
   "language": "python",
   "name": "python3"
  },
  "language_info": {
   "codemirror_mode": {
    "name": "ipython",
    "version": 2
   },
   "file_extension": ".py",
   "mimetype": "text/x-python",
   "name": "python",
   "nbconvert_exporter": "python",
   "pygments_lexer": "ipython2",
   "version": "2.7.6"
  }
 },
 "nbformat": 4,
 "nbformat_minor": 0
}
