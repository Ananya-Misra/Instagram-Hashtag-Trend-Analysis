{
 "cells": [
  {
   "cell_type": "code",
   "execution_count": 26,
   "metadata": {
    "collapsed": true
   },
   "outputs": [],
   "source": [
    "import pandas as pd\n",
    "from selenium import webdriver\n",
    "from webdriver_manager.chrome import ChromeDriverManager\n",
    "from selenium.webdriver.common.keys import Keys\n",
    "from selenium.webdriver.common.by import By\n",
    "from bs4 import BeautifulSoup\n",
    "import time"
   ]
  },
  {
   "cell_type": "code",
   "execution_count": 27,
   "outputs": [],
   "source": [
    "# login\n",
    "def login(driver, instahandle, instapassword):\n",
    "    username = driver.find_element(By.CSS_SELECTOR, \"input[name='username']\")\n",
    "    password = driver.find_element(By.CSS_SELECTOR, \"input[name='password']\")\n",
    "    username.clear()\n",
    "    password.clear()\n",
    "    username.send_keys(instahandle)\n",
    "    password.send_keys(instapassword)\n",
    "    driver.find_element(By.CSS_SELECTOR, \"button[type='submit']\").click()\n",
    "    time.sleep(5)\n",
    "    return True\n"
   ],
   "metadata": {
    "collapsed": false
   }
  },
  {
   "cell_type": "code",
   "execution_count": 28,
   "outputs": [],
   "source": [
    "def skip_login_info(driver):\n",
    "    #save your login info?\n",
    "    time.sleep(10)\n",
    "    notnow = driver.find_element(\"xpath\", \"//button[contains(text(), 'Not Now')]\").click()\n",
    "def turn_off_notif(driver):\n",
    "    #turn on notif\n",
    "    time.sleep(10)\n",
    "    notnow2 = driver.find_element(\"xpath\", \"//button[contains(text(), 'Not Now')]\").click()"
   ],
   "metadata": {
    "collapsed": false
   }
  },
  {
   "cell_type": "code",
   "execution_count": 29,
   "outputs": [],
   "source": [
    "#searchbox\n",
    "def search(driver, instapage):\n",
    "    time.sleep(5)\n",
    "    searchbox = driver.find_element(By.CSS_SELECTOR, \"input[placeholder='Search']\")\n",
    "    searchbox.clear()\n",
    "    searchbox.send_keys(instapage)\n",
    "    time.sleep(5)\n",
    "    #selects the item\n",
    "    searchbox.send_keys(Keys.ENTER);\n",
    "    time.sleep(5)\n",
    "    #clicks enter\n",
    "    searchbox.send_keys(Keys.ENTER)"
   ],
   "metadata": {
    "collapsed": false
   }
  },
  {
   "cell_type": "code",
   "execution_count": 30,
   "outputs": [],
   "source": [
    "def scroller(driver):\n",
    "    #scroll\n",
    "    scrolldown = driver.execute_script(\n",
    "    \"window.scrollTo(0, document.body.scrollHeight);var scrolldown=document.body.scrollHeight;return scrolldown;\")\n",
    "    match = False\n",
    "    while not match:\n",
    "        last_count = scrolldown\n",
    "        time.sleep(3)\n",
    "        scrolldown = driver.execute_script(\n",
    "        \"window.scrollTo(0, document.body.scrollHeight);var scrolldown=document.body.scrollHeight;return scrolldown;\")\n",
    "        if last_count == scrolldown:\n",
    "            match = True\n"
   ],
   "metadata": {
    "collapsed": false
   }
  },
  {
   "cell_type": "code",
   "execution_count": 31,
   "outputs": [],
   "source": [
    "def insta_posts(driver):\n",
    "    posts = []\n",
    "    links = driver.find_elements(By.TAG_NAME, 'a')\n",
    "    for link in links:\n",
    "        post = link.get_attribute('href')\n",
    "        if '/p/' in post:\n",
    "            posts.append(post)\n",
    "    return posts"
   ],
   "metadata": {
    "collapsed": false
   }
  },
  {
   "cell_type": "code",
   "execution_count": 32,
   "outputs": [],
   "source": [
    "def getdata(driver,posts, page=\"\"):\n",
    "    raw_data = []\n",
    "    for post in posts:\n",
    "        driver.get(post)\n",
    "        time.sleep(7)\n",
    "        shortcode = driver.current_url.split(\"/\")[-2]\n",
    "        print(\"shortcode\", shortcode)\n",
    "        selector = \"div._aa06\"\n",
    "        # print(\"selector\", selector)\n",
    "        if driver.find_element(By.CSS_SELECTOR, selector) is not None:\n",
    "            content = driver.find_elements(By.CSS_SELECTOR, selector)\n",
    "            for con in content:\n",
    "                html = con.get_attribute('innerHTML')\n",
    "                with open('dummy_sec.html', 'w',encoding=\"utf-8\") as f:\n",
    "                    f.write(html)\n",
    "                soup = BeautifulSoup(html,  'html.parser')\n",
    "                # print(soup)\n",
    "                for link in soup.find_all('a'):\n",
    "                    # print(link)\n",
    "                    raw_data.append({\n",
    "                        'tag':link.text,\n",
    "                        'link':link.attrs.get('href'),\n",
    "                        'page':page,\n",
    "                        'date':soup.find('time').attrs.get('datetime')\n",
    "                    })\n",
    "        else:\n",
    "            print(\"not found\")\n",
    "            time.sleep(5)\n",
    "        return raw_data\n"
   ],
   "metadata": {
    "collapsed": false
   }
  },
  {
   "cell_type": "code",
   "execution_count": 33,
   "outputs": [],
   "source": [
    "def covert_data_to_df(raw_data):\n",
    "    df = pd.DataFrame(raw_data)\n",
    "    df[df['tag'].str.startswith('#')]\n",
    "    return df"
   ],
   "metadata": {
    "collapsed": false
   }
  },
  {
   "cell_type": "code",
   "execution_count": 34,
   "outputs": [],
   "source": [
    "def convert_df_to_csv(df):\n",
    "    df.to_csv('hastags_rawdata1.csv', index=None)\n",
    "    print('Process Completed')"
   ],
   "metadata": {
    "collapsed": false
   }
  },
  {
   "cell_type": "markdown",
   "source": [
    "**Calling functions**"
   ],
   "metadata": {
    "collapsed": false
   }
  },
  {
   "cell_type": "code",
   "execution_count": 35,
   "outputs": [
    {
     "name": "stderr",
     "output_type": "stream",
     "text": [
      "C:\\Users\\Ananya Misra\\AppData\\Local\\Temp\\ipykernel_13828\\2237476381.py:2: DeprecationWarning: executable_path has been deprecated, please pass in a Service object\n",
      "  mdriver = webdriver.Chrome(ChromeDriverManager().install())\n"
     ]
    },
    {
     "name": "stdout",
     "output_type": "stream",
     "text": [
      "Login successful\n",
      "shortcode ChzaGWosVkL\n",
      "                   tag                                 link              page  \\\n",
      "0                                        /random_shotsbyme/  random_shotsbyme   \n",
      "1     random_shotsbyme                   /random_shotsbyme/  random_shotsbyme   \n",
      "2      #remindersofhim        /explore/tags/remindersofhim/  random_shotsbyme   \n",
      "3        #collenhoover          /explore/tags/collenhoover/  random_shotsbyme   \n",
      "4                                               /dania_pcy/  random_shotsbyme   \n",
      "5            dania_pcy                          /dania_pcy/  random_shotsbyme   \n",
      "6                   2w  /p/ChzaGWosVkL/c/17933060162584455/  random_shotsbyme   \n",
      "7                                                 /_na1naa/  random_shotsbyme   \n",
      "8              _na1naa                            /_na1naa/  random_shotsbyme   \n",
      "9                   2w  /p/ChzaGWosVkL/c/17904124229676960/  random_shotsbyme   \n",
      "10                                     /jignesh_tandel_112/  random_shotsbyme   \n",
      "11  jignesh_tandel_112                 /jignesh_tandel_112/  random_shotsbyme   \n",
      "12                  3w  /p/ChzaGWosVkL/c/18033464437409826/  random_shotsbyme   \n",
      "13                                          /falling4bookz/  random_shotsbyme   \n",
      "14       falling4bookz                      /falling4bookz/  random_shotsbyme   \n",
      "15                 12w  /p/ChzaGWosVkL/c/17986735537564622/  random_shotsbyme   \n",
      "16                                       /madeline.cadavid/  random_shotsbyme   \n",
      "17    madeline.cadavid                   /madeline.cadavid/  random_shotsbyme   \n",
      "18                  1w  /p/ChzaGWosVkL/c/17934420608418154/  random_shotsbyme   \n",
      "19                                            /luvensirena/  random_shotsbyme   \n",
      "20         luvensirena                        /luvensirena/  random_shotsbyme   \n",
      "21                 13w  /p/ChzaGWosVkL/c/18021926038415782/  random_shotsbyme   \n",
      "22                                         /kayleeannlamar/  random_shotsbyme   \n",
      "23      kayleeannlamar                     /kayleeannlamar/  random_shotsbyme   \n",
      "24                  1w  /p/ChzaGWosVkL/c/17989546756616779/  random_shotsbyme   \n",
      "25                                                /siri_vd/  random_shotsbyme   \n",
      "26             siri_vd                            /siri_vd/  random_shotsbyme   \n",
      "27                 10w  /p/ChzaGWosVkL/c/17952239000307068/  random_shotsbyme   \n",
      "28                                            /bhushannn29/  random_shotsbyme   \n",
      "29         bhushannn29                        /bhushannn29/  random_shotsbyme   \n",
      "30                 13w  /p/ChzaGWosVkL/c/17952777038085997/  random_shotsbyme   \n",
      "31                                        /mandeep14_singh/  random_shotsbyme   \n",
      "32     mandeep14_singh                    /mandeep14_singh/  random_shotsbyme   \n",
      "33                 13w  /p/ChzaGWosVkL/c/17844146849833907/  random_shotsbyme   \n",
      "34                                         /beast_boy_himu/  random_shotsbyme   \n",
      "35      beast_boy_himu                     /beast_boy_himu/  random_shotsbyme   \n",
      "36                 13w  /p/ChzaGWosVkL/c/17953334138037957/  random_shotsbyme   \n",
      "\n",
      "                        date  \n",
      "0   2022-11-17T16:26:30.000Z  \n",
      "1   2022-11-17T16:26:30.000Z  \n",
      "2   2022-11-17T16:26:30.000Z  \n",
      "3   2022-11-17T16:26:30.000Z  \n",
      "4   2022-11-13T20:02:44.000Z  \n",
      "5   2022-11-13T20:02:44.000Z  \n",
      "6   2022-11-13T20:02:44.000Z  \n",
      "7   2022-11-13T12:10:00.000Z  \n",
      "8   2022-11-13T12:10:00.000Z  \n",
      "9   2022-11-13T12:10:00.000Z  \n",
      "10  2022-11-07T07:34:24.000Z  \n",
      "11  2022-11-07T07:34:24.000Z  \n",
      "12  2022-11-07T07:34:24.000Z  \n",
      "13  2022-09-05T00:42:17.000Z  \n",
      "14  2022-09-05T00:42:17.000Z  \n",
      "15  2022-09-05T00:42:17.000Z  \n",
      "16  2022-11-24T20:33:53.000Z  \n",
      "17  2022-11-24T20:33:53.000Z  \n",
      "18  2022-11-24T20:33:53.000Z  \n",
      "19  2022-09-02T21:24:59.000Z  \n",
      "20  2022-09-02T21:24:59.000Z  \n",
      "21  2022-09-02T21:24:59.000Z  \n",
      "22  2022-11-24T23:48:57.000Z  \n",
      "23  2022-11-24T23:48:57.000Z  \n",
      "24  2022-11-24T23:48:57.000Z  \n",
      "25  2022-09-19T10:50:25.000Z  \n",
      "26  2022-09-19T10:50:25.000Z  \n",
      "27  2022-09-19T10:50:25.000Z  \n",
      "28  2022-08-28T12:43:16.000Z  \n",
      "29  2022-08-28T12:43:16.000Z  \n",
      "30  2022-08-28T12:43:16.000Z  \n",
      "31  2022-08-28T13:41:38.000Z  \n",
      "32  2022-08-28T13:41:38.000Z  \n",
      "33  2022-08-28T13:41:38.000Z  \n",
      "34  2022-08-28T13:25:11.000Z  \n",
      "35  2022-08-28T13:25:11.000Z  \n",
      "36  2022-08-28T13:25:11.000Z  \n",
      "Process Completed\n"
     ]
    }
   ],
   "source": [
    "#installing driver\n",
    "mdriver = webdriver.Chrome(ChromeDriverManager().install())\n",
    "mdriver.get(\"https://www.instagram.com/\")\n",
    "time.sleep(2)\n",
    "insta_handle='sandrathom11'\n",
    "insta_password='Pipelining48'\n",
    "insta_page='random_shotsbyme'\n",
    "#if login successful\n",
    "if login(mdriver,insta_handle,insta_password):\n",
    "    print(\"Login successful\")\n",
    "    skip_login_info(mdriver)\n",
    "    turn_off_notif(mdriver)\n",
    "    search(mdriver, insta_page)\n",
    "    scroller(mdriver)\n",
    "    fetched_posts=insta_posts(mdriver)\n",
    "    fetched_data=getdata(mdriver,fetched_posts,insta_page)\n",
    "    dataframe=covert_data_to_df(fetched_data)\n",
    "    print(dataframe)\n",
    "    convert_df_to_csv(dataframe)\n",
    "else:\n",
    "    print(\"Wrong credentials\")\n",
    "\n"
   ],
   "metadata": {
    "collapsed": false
   }
  },
  {
   "cell_type": "code",
   "execution_count": 37,
   "outputs": [
    {
     "data": {
      "text/plain": "                   tag                                 link              page  \\\n0                                        /random_shotsbyme/  random_shotsbyme   \n1     random_shotsbyme                   /random_shotsbyme/  random_shotsbyme   \n2      #remindersofhim        /explore/tags/remindersofhim/  random_shotsbyme   \n3        #collenhoover          /explore/tags/collenhoover/  random_shotsbyme   \n4                                               /dania_pcy/  random_shotsbyme   \n5            dania_pcy                          /dania_pcy/  random_shotsbyme   \n6                   2w  /p/ChzaGWosVkL/c/17933060162584455/  random_shotsbyme   \n7                                                 /_na1naa/  random_shotsbyme   \n8              _na1naa                            /_na1naa/  random_shotsbyme   \n9                   2w  /p/ChzaGWosVkL/c/17904124229676960/  random_shotsbyme   \n10                                     /jignesh_tandel_112/  random_shotsbyme   \n11  jignesh_tandel_112                 /jignesh_tandel_112/  random_shotsbyme   \n12                  3w  /p/ChzaGWosVkL/c/18033464437409826/  random_shotsbyme   \n13                                          /falling4bookz/  random_shotsbyme   \n14       falling4bookz                      /falling4bookz/  random_shotsbyme   \n15                 12w  /p/ChzaGWosVkL/c/17986735537564622/  random_shotsbyme   \n16                                       /madeline.cadavid/  random_shotsbyme   \n17    madeline.cadavid                   /madeline.cadavid/  random_shotsbyme   \n18                  1w  /p/ChzaGWosVkL/c/17934420608418154/  random_shotsbyme   \n19                                            /luvensirena/  random_shotsbyme   \n20         luvensirena                        /luvensirena/  random_shotsbyme   \n21                 13w  /p/ChzaGWosVkL/c/18021926038415782/  random_shotsbyme   \n22                                         /kayleeannlamar/  random_shotsbyme   \n23      kayleeannlamar                     /kayleeannlamar/  random_shotsbyme   \n24                  1w  /p/ChzaGWosVkL/c/17989546756616779/  random_shotsbyme   \n25                                                /siri_vd/  random_shotsbyme   \n26             siri_vd                            /siri_vd/  random_shotsbyme   \n27                 10w  /p/ChzaGWosVkL/c/17952239000307068/  random_shotsbyme   \n28                                            /bhushannn29/  random_shotsbyme   \n29         bhushannn29                        /bhushannn29/  random_shotsbyme   \n30                 13w  /p/ChzaGWosVkL/c/17952777038085997/  random_shotsbyme   \n31                                        /mandeep14_singh/  random_shotsbyme   \n32     mandeep14_singh                    /mandeep14_singh/  random_shotsbyme   \n33                 13w  /p/ChzaGWosVkL/c/17844146849833907/  random_shotsbyme   \n34                                         /beast_boy_himu/  random_shotsbyme   \n35      beast_boy_himu                     /beast_boy_himu/  random_shotsbyme   \n36                 13w  /p/ChzaGWosVkL/c/17953334138037957/  random_shotsbyme   \n\n                        date  \n0   2022-11-17T16:26:30.000Z  \n1   2022-11-17T16:26:30.000Z  \n2   2022-11-17T16:26:30.000Z  \n3   2022-11-17T16:26:30.000Z  \n4   2022-11-13T20:02:44.000Z  \n5   2022-11-13T20:02:44.000Z  \n6   2022-11-13T20:02:44.000Z  \n7   2022-11-13T12:10:00.000Z  \n8   2022-11-13T12:10:00.000Z  \n9   2022-11-13T12:10:00.000Z  \n10  2022-11-07T07:34:24.000Z  \n11  2022-11-07T07:34:24.000Z  \n12  2022-11-07T07:34:24.000Z  \n13  2022-09-05T00:42:17.000Z  \n14  2022-09-05T00:42:17.000Z  \n15  2022-09-05T00:42:17.000Z  \n16  2022-11-24T20:33:53.000Z  \n17  2022-11-24T20:33:53.000Z  \n18  2022-11-24T20:33:53.000Z  \n19  2022-09-02T21:24:59.000Z  \n20  2022-09-02T21:24:59.000Z  \n21  2022-09-02T21:24:59.000Z  \n22  2022-11-24T23:48:57.000Z  \n23  2022-11-24T23:48:57.000Z  \n24  2022-11-24T23:48:57.000Z  \n25  2022-09-19T10:50:25.000Z  \n26  2022-09-19T10:50:25.000Z  \n27  2022-09-19T10:50:25.000Z  \n28  2022-08-28T12:43:16.000Z  \n29  2022-08-28T12:43:16.000Z  \n30  2022-08-28T12:43:16.000Z  \n31  2022-08-28T13:41:38.000Z  \n32  2022-08-28T13:41:38.000Z  \n33  2022-08-28T13:41:38.000Z  \n34  2022-08-28T13:25:11.000Z  \n35  2022-08-28T13:25:11.000Z  \n36  2022-08-28T13:25:11.000Z  ",
      "text/html": "<div>\n<style scoped>\n    .dataframe tbody tr th:only-of-type {\n        vertical-align: middle;\n    }\n\n    .dataframe tbody tr th {\n        vertical-align: top;\n    }\n\n    .dataframe thead th {\n        text-align: right;\n    }\n</style>\n<table border=\"1\" class=\"dataframe\">\n  <thead>\n    <tr style=\"text-align: right;\">\n      <th></th>\n      <th>tag</th>\n      <th>link</th>\n      <th>page</th>\n      <th>date</th>\n    </tr>\n  </thead>\n  <tbody>\n    <tr>\n      <th>0</th>\n      <td></td>\n      <td>/random_shotsbyme/</td>\n      <td>random_shotsbyme</td>\n      <td>2022-11-17T16:26:30.000Z</td>\n    </tr>\n    <tr>\n      <th>1</th>\n      <td>random_shotsbyme</td>\n      <td>/random_shotsbyme/</td>\n      <td>random_shotsbyme</td>\n      <td>2022-11-17T16:26:30.000Z</td>\n    </tr>\n    <tr>\n      <th>2</th>\n      <td>#remindersofhim</td>\n      <td>/explore/tags/remindersofhim/</td>\n      <td>random_shotsbyme</td>\n      <td>2022-11-17T16:26:30.000Z</td>\n    </tr>\n    <tr>\n      <th>3</th>\n      <td>#collenhoover</td>\n      <td>/explore/tags/collenhoover/</td>\n      <td>random_shotsbyme</td>\n      <td>2022-11-17T16:26:30.000Z</td>\n    </tr>\n    <tr>\n      <th>4</th>\n      <td></td>\n      <td>/dania_pcy/</td>\n      <td>random_shotsbyme</td>\n      <td>2022-11-13T20:02:44.000Z</td>\n    </tr>\n    <tr>\n      <th>5</th>\n      <td>dania_pcy</td>\n      <td>/dania_pcy/</td>\n      <td>random_shotsbyme</td>\n      <td>2022-11-13T20:02:44.000Z</td>\n    </tr>\n    <tr>\n      <th>6</th>\n      <td>2w</td>\n      <td>/p/ChzaGWosVkL/c/17933060162584455/</td>\n      <td>random_shotsbyme</td>\n      <td>2022-11-13T20:02:44.000Z</td>\n    </tr>\n    <tr>\n      <th>7</th>\n      <td></td>\n      <td>/_na1naa/</td>\n      <td>random_shotsbyme</td>\n      <td>2022-11-13T12:10:00.000Z</td>\n    </tr>\n    <tr>\n      <th>8</th>\n      <td>_na1naa</td>\n      <td>/_na1naa/</td>\n      <td>random_shotsbyme</td>\n      <td>2022-11-13T12:10:00.000Z</td>\n    </tr>\n    <tr>\n      <th>9</th>\n      <td>2w</td>\n      <td>/p/ChzaGWosVkL/c/17904124229676960/</td>\n      <td>random_shotsbyme</td>\n      <td>2022-11-13T12:10:00.000Z</td>\n    </tr>\n    <tr>\n      <th>10</th>\n      <td></td>\n      <td>/jignesh_tandel_112/</td>\n      <td>random_shotsbyme</td>\n      <td>2022-11-07T07:34:24.000Z</td>\n    </tr>\n    <tr>\n      <th>11</th>\n      <td>jignesh_tandel_112</td>\n      <td>/jignesh_tandel_112/</td>\n      <td>random_shotsbyme</td>\n      <td>2022-11-07T07:34:24.000Z</td>\n    </tr>\n    <tr>\n      <th>12</th>\n      <td>3w</td>\n      <td>/p/ChzaGWosVkL/c/18033464437409826/</td>\n      <td>random_shotsbyme</td>\n      <td>2022-11-07T07:34:24.000Z</td>\n    </tr>\n    <tr>\n      <th>13</th>\n      <td></td>\n      <td>/falling4bookz/</td>\n      <td>random_shotsbyme</td>\n      <td>2022-09-05T00:42:17.000Z</td>\n    </tr>\n    <tr>\n      <th>14</th>\n      <td>falling4bookz</td>\n      <td>/falling4bookz/</td>\n      <td>random_shotsbyme</td>\n      <td>2022-09-05T00:42:17.000Z</td>\n    </tr>\n    <tr>\n      <th>15</th>\n      <td>12w</td>\n      <td>/p/ChzaGWosVkL/c/17986735537564622/</td>\n      <td>random_shotsbyme</td>\n      <td>2022-09-05T00:42:17.000Z</td>\n    </tr>\n    <tr>\n      <th>16</th>\n      <td></td>\n      <td>/madeline.cadavid/</td>\n      <td>random_shotsbyme</td>\n      <td>2022-11-24T20:33:53.000Z</td>\n    </tr>\n    <tr>\n      <th>17</th>\n      <td>madeline.cadavid</td>\n      <td>/madeline.cadavid/</td>\n      <td>random_shotsbyme</td>\n      <td>2022-11-24T20:33:53.000Z</td>\n    </tr>\n    <tr>\n      <th>18</th>\n      <td>1w</td>\n      <td>/p/ChzaGWosVkL/c/17934420608418154/</td>\n      <td>random_shotsbyme</td>\n      <td>2022-11-24T20:33:53.000Z</td>\n    </tr>\n    <tr>\n      <th>19</th>\n      <td></td>\n      <td>/luvensirena/</td>\n      <td>random_shotsbyme</td>\n      <td>2022-09-02T21:24:59.000Z</td>\n    </tr>\n    <tr>\n      <th>20</th>\n      <td>luvensirena</td>\n      <td>/luvensirena/</td>\n      <td>random_shotsbyme</td>\n      <td>2022-09-02T21:24:59.000Z</td>\n    </tr>\n    <tr>\n      <th>21</th>\n      <td>13w</td>\n      <td>/p/ChzaGWosVkL/c/18021926038415782/</td>\n      <td>random_shotsbyme</td>\n      <td>2022-09-02T21:24:59.000Z</td>\n    </tr>\n    <tr>\n      <th>22</th>\n      <td></td>\n      <td>/kayleeannlamar/</td>\n      <td>random_shotsbyme</td>\n      <td>2022-11-24T23:48:57.000Z</td>\n    </tr>\n    <tr>\n      <th>23</th>\n      <td>kayleeannlamar</td>\n      <td>/kayleeannlamar/</td>\n      <td>random_shotsbyme</td>\n      <td>2022-11-24T23:48:57.000Z</td>\n    </tr>\n    <tr>\n      <th>24</th>\n      <td>1w</td>\n      <td>/p/ChzaGWosVkL/c/17989546756616779/</td>\n      <td>random_shotsbyme</td>\n      <td>2022-11-24T23:48:57.000Z</td>\n    </tr>\n    <tr>\n      <th>25</th>\n      <td></td>\n      <td>/siri_vd/</td>\n      <td>random_shotsbyme</td>\n      <td>2022-09-19T10:50:25.000Z</td>\n    </tr>\n    <tr>\n      <th>26</th>\n      <td>siri_vd</td>\n      <td>/siri_vd/</td>\n      <td>random_shotsbyme</td>\n      <td>2022-09-19T10:50:25.000Z</td>\n    </tr>\n    <tr>\n      <th>27</th>\n      <td>10w</td>\n      <td>/p/ChzaGWosVkL/c/17952239000307068/</td>\n      <td>random_shotsbyme</td>\n      <td>2022-09-19T10:50:25.000Z</td>\n    </tr>\n    <tr>\n      <th>28</th>\n      <td></td>\n      <td>/bhushannn29/</td>\n      <td>random_shotsbyme</td>\n      <td>2022-08-28T12:43:16.000Z</td>\n    </tr>\n    <tr>\n      <th>29</th>\n      <td>bhushannn29</td>\n      <td>/bhushannn29/</td>\n      <td>random_shotsbyme</td>\n      <td>2022-08-28T12:43:16.000Z</td>\n    </tr>\n    <tr>\n      <th>30</th>\n      <td>13w</td>\n      <td>/p/ChzaGWosVkL/c/17952777038085997/</td>\n      <td>random_shotsbyme</td>\n      <td>2022-08-28T12:43:16.000Z</td>\n    </tr>\n    <tr>\n      <th>31</th>\n      <td></td>\n      <td>/mandeep14_singh/</td>\n      <td>random_shotsbyme</td>\n      <td>2022-08-28T13:41:38.000Z</td>\n    </tr>\n    <tr>\n      <th>32</th>\n      <td>mandeep14_singh</td>\n      <td>/mandeep14_singh/</td>\n      <td>random_shotsbyme</td>\n      <td>2022-08-28T13:41:38.000Z</td>\n    </tr>\n    <tr>\n      <th>33</th>\n      <td>13w</td>\n      <td>/p/ChzaGWosVkL/c/17844146849833907/</td>\n      <td>random_shotsbyme</td>\n      <td>2022-08-28T13:41:38.000Z</td>\n    </tr>\n    <tr>\n      <th>34</th>\n      <td></td>\n      <td>/beast_boy_himu/</td>\n      <td>random_shotsbyme</td>\n      <td>2022-08-28T13:25:11.000Z</td>\n    </tr>\n    <tr>\n      <th>35</th>\n      <td>beast_boy_himu</td>\n      <td>/beast_boy_himu/</td>\n      <td>random_shotsbyme</td>\n      <td>2022-08-28T13:25:11.000Z</td>\n    </tr>\n    <tr>\n      <th>36</th>\n      <td>13w</td>\n      <td>/p/ChzaGWosVkL/c/17953334138037957/</td>\n      <td>random_shotsbyme</td>\n      <td>2022-08-28T13:25:11.000Z</td>\n    </tr>\n  </tbody>\n</table>\n</div>"
     },
     "execution_count": 37,
     "metadata": {},
     "output_type": "execute_result"
    }
   ],
   "source": [
    "dataframe"
   ],
   "metadata": {
    "collapsed": false
   }
  },
  {
   "cell_type": "code",
   "execution_count": null,
   "outputs": [],
   "source": [],
   "metadata": {
    "collapsed": false
   }
  }
 ],
 "metadata": {
  "kernelspec": {
   "display_name": "Python 3",
   "language": "python",
   "name": "python3"
  },
  "language_info": {
   "codemirror_mode": {
    "name": "ipython",
    "version": 2
   },
   "file_extension": ".py",
   "mimetype": "text/x-python",
   "name": "python",
   "nbconvert_exporter": "python",
   "pygments_lexer": "ipython2",
   "version": "2.7.6"
  }
 },
 "nbformat": 4,
 "nbformat_minor": 0
}
